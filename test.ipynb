{
  "nbformat": 4,
  "nbformat_minor": 0,
  "metadata": {
    "colab": {
      "name": "test.ipynb",
      "provenance": [],
      "collapsed_sections": [],
      "authorship_tag": "ABX9TyP3qV9AYVCsJadBf3jccahy",
      "include_colab_link": true
    },
    "kernelspec": {
      "name": "python3",
      "display_name": "Python 3"
    },
    "language_info": {
      "name": "python"
    }
  },
  "cells": [
    {
      "cell_type": "markdown",
      "metadata": {
        "id": "view-in-github",
        "colab_type": "text"
      },
      "source": [
        "<a href=\"https://colab.research.google.com/github/Ruslan-nstu/Test/blob/Master/test.ipynb\" target=\"_parent\"><img src=\"https://colab.research.google.com/assets/colab-badge.svg\" alt=\"Open In Colab\"/></a>"
      ]
    },
    {
      "cell_type": "markdown",
      "source": [
        "# Команда \n",
        "\n",
        "\n",
        "1.   Зарипов Руслан\n",
        "2.   Шанова Анастасия\n",
        "3.   Старостин Андрей\n",
        "\n",
        "# Рисунок\n",
        "![it works](https://drive.google.com/uc?id=1JY5VbpNKjQyqkVkc3tkKfJz5P_MQpVEy)\n",
        "\n",
        "# Таблица\n",
        "\n",
        "|Фамилия  |Имя       |\n",
        "| :---:   | :---:    |\n",
        "| Зарипов | Руслан   |\n",
        "| Старостин | Андрей |\n",
        "| Шанова | Анастасия |\n",
        "\n",
        "# Ссылка\n",
        "[Markdown Syntax](https://www.jetbrains.com/help/hub/Markdown-Syntax.html#quick-notes-markdown-images)"
      ],
      "metadata": {
        "id": "q1bwkNCydlBW"
      }
    },
    {
      "cell_type": "code",
      "source": [
        ""
      ],
      "metadata": {
        "id": "xwCqUQ7H4ZtJ"
      },
      "execution_count": null,
      "outputs": []
    }
  ]
}