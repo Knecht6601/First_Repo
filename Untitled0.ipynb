{
  "nbformat": 4,
  "nbformat_minor": 0,
  "metadata": {
    "colab": {
      "name": "Untitled0.ipynb",
      "provenance": [],
      "collapsed_sections": [],
      "authorship_tag": "ABX9TyPkEx7dErPP8Mwr93eE5DCn",
      "include_colab_link": true
    },
    "kernelspec": {
      "name": "python3",
      "display_name": "Python 3"
    },
    "language_info": {
      "name": "python"
    }
  },
  "cells": [
    {
      "cell_type": "markdown",
      "metadata": {
        "id": "view-in-github",
        "colab_type": "text"
      },
      "source": [
        "<a href=\"https://colab.research.google.com/github/Ruslan-nstu/Test/blob/main/Untitled0.ipynb\" target=\"_parent\"><img src=\"https://colab.research.google.com/assets/colab-badge.svg\" alt=\"Open In Colab\"/></a>"
      ]
    },
    {
      "cell_type": "markdown",
      "source": [
        "\n",
        "#1.   Состав команды\n",
        "  Шанова Анастасия\n",
        "\n",
        "  Старостин Андрей\n",
        "\n",
        "  Зарипов Руслан\n",
        "\n",
        "\n",
        "#2.   Рисунок\n",
        "\n",
        "![nstu.png](data:image/png;base64,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)\n",
        "\n",
        "#3. Таблица\n",
        "Первый столбик     | \n",
        "-------------------|\n",
        "Python             | \n",
        "print('Hello World')|\n",
        "\n",
        "#4. Ссылка\n",
        "[Get started with Google Colaboratory](https://www.youtube.com/watch?v=inN8seMm7UI)\n",
        "\n",
        "#5. ЧТо--то\n",
        "\n",
        "\n",
        "\n",
        "\n"
      ],
      "metadata": {
        "id": "VFHi8J8Nb150"
      }
    },
    {
      "cell_type": "markdown",
      "source": [
        ""
      ],
      "metadata": {
        "id": "q1bwkNCydlBW"
      }
    },
    {
      "cell_type": "code",
      "source": [
        ""
      ],
      "metadata": {
        "id": "o1uFcBK9dQXR"
      },
      "execution_count": null,
      "outputs": []
    }
  ]
}